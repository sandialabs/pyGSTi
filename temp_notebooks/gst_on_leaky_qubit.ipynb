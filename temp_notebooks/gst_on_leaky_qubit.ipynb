{
 "cells": [
  {
   "cell_type": "code",
   "execution_count": null,
   "metadata": {},
   "outputs": [],
   "source": [
    "%load_ext autoreload\n",
    "%autoreload 2\n",
    "import pygsti\n",
    "import copy\n",
    "from pygsti import tools as pgt\n",
    "from pygsti import modelmembers as pgmm\n",
    "from pygsti.protocols.gst import ModelEstimateResults\n",
    "from pygsti.modelpacks import smq1Q_XY, smq1Q_ZN\n",
    "from typing import Union, Dict\n",
    "from pygsti.tools.leakage import add_lago_models, leaky_qubit_model_from_pspec, leakage_friendly_basis_2plus1\n",
    "from pygsti.data import simulate_data\n",
    "from pygsti.protocols import StandardGST, ProtocolData\n",
    "import numpy as np"
   ]
  },
  {
   "cell_type": "code",
   "execution_count": null,
   "metadata": {},
   "outputs": [],
   "source": [
    "mp = smq1Q_XY\n",
    "ed = mp.create_gst_experiment_design(max_max_length=32)\n",
    "lfb = leakage_friendly_basis_2plus1()\n",
    "tm3 = leaky_qubit_model_from_pspec(mp.processor_spec(), basis=lfb)\n",
    "ds = simulate_data(tm3, ed.all_circuits_needing_data, num_samples=1000, seed=1997)\n",
    "gst = StandardGST( modes=('CPTPLND',), target_model=tm3, verbosity=2)\n",
    "pd = ProtocolData(ed, ds)\n",
    "res = gst.run(pd)"
   ]
  },
  {
   "cell_type": "code",
   "execution_count": null,
   "metadata": {},
   "outputs": [],
   "source": [
    "def write_leakage_friendly_html_report(\n",
    "        report_title: str,\n",
    "        report_dir  : str,\n",
    "        results : ModelEstimateResults,\n",
    "        est_key: str ='CPTPLND',\n",
    "        gaugeopt_verbosity : int = 0\n",
    "    ):\n",
    "    from copy import deepcopy\n",
    "    results = deepcopy(results)\n",
    "    add_lago_models(results, est_key, verbosity=gaugeopt_verbosity)\n",
    "    from pygsti.report import construct_standard_report\n",
    "    report = construct_standard_report(results, title=report_title, advanced_options={'n_leak': 1})\n",
    "    report.write_html(report_dir)\n",
    "    return"
   ]
  },
  {
   "cell_type": "code",
   "execution_count": null,
   "metadata": {},
   "outputs": [],
   "source": [
    "report_dir = ''  # set me!"
   ]
  },
  {
   "cell_type": "code",
   "execution_count": null,
   "metadata": {},
   "outputs": [],
   "source": [
    "write_leakage_friendly_html_report('leakage report', report_dir, res)"
   ]
  }
 ],
 "metadata": {
  "kernelspec": {
   "display_name": "leak311",
   "language": "python",
   "name": "python3"
  },
  "language_info": {
   "codemirror_mode": {
    "name": "ipython",
    "version": 3
   },
   "file_extension": ".py",
   "mimetype": "text/x-python",
   "name": "python",
   "nbconvert_exporter": "python",
   "pygments_lexer": "ipython3",
   "version": "3.11.13"
  }
 },
 "nbformat": 4,
 "nbformat_minor": 2
}
