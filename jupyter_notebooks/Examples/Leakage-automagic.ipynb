{
 "cells": [
  {
   "cell_type": "code",
   "execution_count": null,
   "metadata": {},
   "outputs": [],
   "source": [
    "from pygsti.modelpacks import smq1Q_XY, smq1Q_ZN\n",
    "from pygsti.tools.leakage import leaky_qubit_model_from_pspec, construct_leakage_report\n",
    "from pygsti.data import simulate_data\n",
    "from pygsti.protocols import StandardGST, ProtocolData"
   ]
  },
  {
   "cell_type": "markdown",
   "metadata": {},
   "source": [
    "## GST: modeling a leaky qubit as a qutrit\n",
    "\n",
    "This short notebook shows how (data from) an experiment design for a two-level system can be used to fit a three-level sytem model, and how to generate a special report to provide insights for these models. The report includes special gate error metrics that reflect the distinguished role of the first two levels in the three-level system."
   ]
  },
  {
   "cell_type": "code",
   "execution_count": null,
   "metadata": {},
   "outputs": [],
   "source": [
    "mp = smq1Q_XY\n",
    "ed = mp.create_gst_experiment_design(max_max_length=32)\n",
    "tm3 = leaky_qubit_model_from_pspec(mp.processor_spec(), mx_basis='l2p1')\n",
    "# ^ We could use basis = 'gm' instead of 'l2p1'. We prefer 'l2p1'\n",
    "#   because it makes process matrices easier to interpret in leakage\n",
    "#   modeling.\n",
    "ds = simulate_data(tm3, ed.all_circuits_needing_data, num_samples=1000, seed=1997)\n",
    "gst = StandardGST( modes=('CPTPLND',), target_model=tm3, verbosity=2)\n",
    "pd = ProtocolData(ed, ds)\n",
    "res = gst.run(pd)"
   ]
  },
  {
   "cell_type": "code",
   "execution_count": null,
   "metadata": {},
   "outputs": [],
   "source": [
    "report_dir = 'example_files/leakage-report-automagic'\n",
    "report_object, updated_res = construct_leakage_report(res, title='easy leakage analysis!')\n",
    "# ^ Each estimate in updated_res has a new gauge-optimized model.\n",
    "#   The gauge optimization was done to reflect how our target gates\n",
    "#   are only _really_ defined on the first two levels of our\n",
    "#   three-level system.\n",
    "#   \n",
    "report_object.write_html(report_dir)"
   ]
  },
  {
   "cell_type": "code",
   "execution_count": null,
   "metadata": {},
   "outputs": [],
   "source": []
  }
 ],
 "metadata": {
  "kernelspec": {
   "display_name": "leak311",
   "language": "python",
   "name": "python3"
  },
  "language_info": {
   "codemirror_mode": {
    "name": "ipython",
    "version": 3
   },
   "file_extension": ".py",
   "mimetype": "text/x-python",
   "name": "python",
   "nbconvert_exporter": "python",
   "pygments_lexer": "ipython3",
   "version": "3.11.13"
  }
 },
 "nbformat": 4,
 "nbformat_minor": 2
}
