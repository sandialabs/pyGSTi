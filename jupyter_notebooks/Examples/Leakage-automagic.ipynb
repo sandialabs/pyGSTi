{
 "cells": [
  {
   "cell_type": "code",
   "execution_count": 1,
   "metadata": {},
   "outputs": [],
   "source": [
    "from pygsti.modelpacks import smq1Q_XY, smq1Q_ZN\n",
    "from pygsti.tools.leakage import leaky_qubit_model_from_pspec, construct_leakage_report\n",
    "from pygsti.data import simulate_data\n",
    "from pygsti.protocols import StandardGST, ProtocolData"
   ]
  },
  {
   "cell_type": "markdown",
   "metadata": {},
   "source": [
    "## GST: modeling a leaky qubit as a qutrit\n",
    "\n",
    "This short notebook shows how (data from) an experiment design for a two-level system can be used to fit a three-level sytem model, and how to generate a special report to provide insights for these models. The report includes special gate error metrics that reflect the distinguished role of the first two levels in the three-level system."
   ]
  },
  {
   "cell_type": "code",
   "execution_count": 2,
   "metadata": {},
   "outputs": [
    {
     "name": "stdout",
     "output_type": "stream",
     "text": [
      "-- Std Practice:  Iter 1 of 1  (CPTPLND) --: \n",
      "  --- Iterative GST: [--------------------------------------------------] 0.0%  56 circuits ---\r"
     ]
    },
    {
     "name": "stderr",
     "output_type": "stream",
     "text": [
      "/Users/rjmurr/Documents/pygsti-leakage/hrl-repo/pygsti_repo/pygsti/modelmembers/povms/__init__.py:615: FutureWarning: `rcond` parameter will change to the default of machine precision times ``max(M, N)`` where M and N are the input matrix dimensions.\n",
      "To use the future default and silence this warning we advise to pass `rcond=None`, to keep using the old, explicitly pass `rcond=-1`.\n",
      "  errgen_vec = _np.linalg.lstsq(phys_directions, soln.x)[0]\n",
      "/Users/rjmurr/Documents/pygsti-leakage/hrl-repo/pygsti_repo/pygsti/objectivefns/objectivefns.py:4471: RuntimeWarning: divide by zero encountered in divide\n",
      "  p5over_lsvec = 0.5/lsvec\n"
     ]
    },
    {
     "name": "stdout",
     "output_type": "stream",
     "text": [
      "  --- Iterative GST: [##################################################] 100.0%  568 circuits ---\n"
     ]
    }
   ],
   "source": [
    "mp = smq1Q_XY\n",
    "ed = mp.create_gst_experiment_design(max_max_length=32)\n",
    "tm3 = leaky_qubit_model_from_pspec(mp.processor_spec(), basis='l2p1')\n",
    "# ^ We could use basis = 'gm' instead of 'l2p1'. We prefer 'l2p1'\n",
    "#   because it makes process matrices easier to interpret in leakage\n",
    "#   modeling.\n",
    "ds = simulate_data(tm3, ed.all_circuits_needing_data, num_samples=1000, seed=1997)\n",
    "gst = StandardGST( modes=('CPTPLND',), target_model=tm3, verbosity=2)\n",
    "pd = ProtocolData(ed, ds)\n",
    "res = gst.run(pd)"
   ]
  },
  {
   "cell_type": "code",
   "execution_count": 3,
   "metadata": {},
   "outputs": [
    {
     "name": "stdout",
     "output_type": "stream",
     "text": [
      "Running idle tomography\n",
      "Computing switchable properties\n"
     ]
    },
    {
     "name": "stderr",
     "output_type": "stream",
     "text": [
      "/Users/rjmurr/Documents/pygsti-leakage/hrl-repo/pygsti_repo/pygsti/models/model.py:143: UserWarning:\n",
      "\n",
      "Model.num_modeltest_params could not obtain number of *non-gauge* parameters - using total instead\n",
      "\n",
      "/Users/rjmurr/Documents/pygsti-leakage/hrl-repo/pygsti_repo/pygsti/report/plothelpers.py:367: UserWarning:\n",
      "\n",
      "Max-model params (56) <= model params (87)!  Using k == 1.\n",
      "\n",
      "/Users/rjmurr/Documents/pygsti-leakage/hrl-repo/pygsti_repo/pygsti/forwardsims/mapforwardsim.py:731: UserWarning:\n",
      "\n",
      "Generating dense process matrix representations of circuits or gates \n",
      "can be inefficient and should be avoided for the purposes of forward \n",
      "simulation/calculation of circuit outcome probability distributions \n",
      "when using the MapForwardSimulator.\n",
      "\n"
     ]
    }
   ],
   "source": [
    "report_dir = 'example_files/leakage-report-automagic'\n",
    "report_object, updated_res = construct_leakage_report(res, title='easy leakage analysis!')\n",
    "# ^ Each estimate in updated_res has a new gauge-optimized model.\n",
    "#   The gauge optimization was done to reflect how our target gates\n",
    "#   are only _really_ defined on the first two levels of our\n",
    "#   three-level system.\n",
    "#   \n",
    "report_object.write_html(report_dir)"
   ]
  }
 ],
 "metadata": {
  "kernelspec": {
   "display_name": "leak311",
   "language": "python",
   "name": "python3"
  },
  "language_info": {
   "codemirror_mode": {
    "name": "ipython",
    "version": 3
   },
   "file_extension": ".py",
   "mimetype": "text/x-python",
   "name": "python",
   "nbconvert_exporter": "python",
   "pygments_lexer": "ipython3",
   "version": "3.11.13"
  }
 },
 "nbformat": 4,
 "nbformat_minor": 2
}
