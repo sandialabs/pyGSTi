{
 "cells": [
  {
   "cell_type": "code",
   "execution_count": 1,
   "metadata": {},
   "outputs": [],
   "source": [
    "%load_ext autoreload\n",
    "%autoreload 2\n",
    "\n",
    "import pygsti\n",
    "from pygsti.modelpacks import smq1Q_XYI\n",
    "import numpy as np\n",
    "from pprint import pprint\n",
    "import copy\n",
    "\n",
    "\n",
    "def make_depolarized_dataset(modelpack, depol_level=0.01, max_max_len=128):\n",
    "    ideal_model = modelpack.target_model()\n",
    "    prep_fids = modelpack.prep_fiducials()\n",
    "    meas_fids = modelpack.meas_fiducials()\n",
    "    germs = modelpack.germs()\n",
    "    max_lens = [2**p for p in range(1+int(np.log2(max_max_len)))]\n",
    "    lsgst_circuit_lists = pygsti.circuits.create_lsgst_circuit_lists(ideal_model, prep_fids, meas_fids, germs, max_lens)\n",
    "    all_circuits = lsgst_circuit_lists[-1]\n",
    "    shots_per_circuit = 1000\n",
    "    rng_state = np.random.default_rng(0)\n",
    "    depol_model = ideal_model.depolarize(op_noise=depol_level)\n",
    "    ds = pygsti.data.simulate_data(depol_model, all_circuits, shots_per_circuit, rand_state=rng_state)\n",
    "    return ds\n",
    "\n",
    "\n",
    "def corrupt_dataset(ds, prop_corrupt, rng=0):\n",
    "    dsc = ds.copy_nonstatic()\n",
    "    rng = np.random.default_rng(rng)\n",
    "    num_circs = len(dsc)\n",
    "    selected = rng.choice(np.arange(num_circs), size=int(num_circs*prop_corrupt), replace=False)\n",
    "    circuits = list(dsc.keys())\n",
    "    selected = [circuits[i] for i in selected]\n",
    "    for c in selected:\n",
    "        num_shots = dsc[c].total\n",
    "        old_row   = dsc[c].to_dict()\n",
    "        distn = rng.random(len(old_row))\n",
    "        distn /= np.sum(distn)\n",
    "        new_row = {k: num_shots * distn[i] for i,k in enumerate(old_row.keys())}\n",
    "        dsc[c] = new_row\n",
    "    dsc.comment  = 'corrupt'\n",
    "    return dsc, selected\n",
    "\n",
    "\n",
    "def cptp_gst(ds, fids, germs, target_model, final_objective: str, verbosity: int, mode='CPTPLND'):\n",
    "    \"\"\"\n",
    "    In the context of this notebook, `ds` is produced by either make_depolarized_dataset or corrupt_dataset.\n",
    "    final_objective can be 'tvd', 'chi2', or 'logl'.\n",
    "\n",
    "    This function wraps up three steps of a GST pipeline.\n",
    "\n",
    "    1. Construct a StandardGSTDesign based on (target_model, ds, fids, germs).\n",
    "         * processor_spec is the value returned from target_model.create_processor_spec.\n",
    "         * max_lens list is all powers of two that are <= the depth of the longest circuit in ds.\n",
    "         * circuits in the design are filtered to only include circuits that appeared in ds.\n",
    "\n",
    "    2. Construct a StandardGST protocol object based on (final_objective, mode, verbosity).\n",
    "         * The gauge optimization suite is 'stdgaugeopt', minus the TPSpam optimization step.\n",
    "         * objfn_builders, optimizer, and badfit_options are all set so the final \n",
    "           iteration's objective function is based on final_objective.\n",
    "\n",
    "    3. Run GST with checkpointing turned off. \n",
    "        We dot NOT save the results to disk! The calling function is responsible for that.\n",
    "    \"\"\"\n",
    "    max_exp = int(np.log2(np.max([len(c) for c in ds.keys()])))\n",
    "    max_lens = [2**p for p in range(1 + max_exp)]\n",
    "    prep_fids, meas_fids = fids\n",
    "\n",
    "    target_model = target_model.copy()\n",
    "    target_model.default_gauge_group = 'unitary'\n",
    "\n",
    "    gos = pygsti.protocols.gst.GSTGaugeOptSuite.cast('stdgaugeopt')\n",
    "    gop_params = gos.to_dictionary(target_model)\n",
    "    # ^ a dict with one key, 'stdgaugeopt', whose corresponding value is a list of dicts.\n",
    "    #   The internal dicts will indicate Frobenius-based losses for gates and SPAM,\n",
    "    #   along with varying weights. Additional elements can be added to any one of these\n",
    "    #   internal dicts to be passed to gaugeopt_to_target.\n",
    "    gop_params['stdgaugeopt'] = gop_params['stdgaugeopt'][:-1]\n",
    "    # ^ drop the 1-dimensional TPSpam gauge optimization step.\n",
    "\n",
    "    exp_design = pygsti.protocols.StandardGSTDesign(\n",
    "        target_model.create_processor_spec(),\n",
    "        prep_fids, meas_fids, germs, max_lens,\n",
    "        None,           # germ_length_limits\n",
    "        None, 1, None,  # fidPairs, keepFraction, keepSeed\n",
    "        True, True,     # include_lgst, nested_circuit_lists\n",
    "        None,           # string_manipulation_rules\n",
    "        None,           # op_label_aliases\n",
    "        ds, 'drop', verbosity=verbosity\n",
    "    )\n",
    "    data = pygsti.protocols.ProtocolData(exp_design, ds)\n",
    "    \n",
    "    from pygsti.drivers.longsequence import _get_gst_builders, _get_optimizer, _get_badfit_options\n",
    "    advanced_options = {'objective': final_objective}\n",
    "    proto = pygsti.protocols.StandardGST(\n",
    "        (mode,), gop_params, target_model, None, \n",
    "        objfn_builders    = _get_gst_builders(advanced_options),\n",
    "        optimizer         = _get_optimizer(advanced_options, target_model),\n",
    "        badfit_options    = _get_badfit_options(advanced_options),\n",
    "        verbosity         = verbosity\n",
    "    )\n",
    "    results = proto.run(data, disable_checkpointing=True)\n",
    "    return results\n",
    "\n"
   ]
  },
  {
   "cell_type": "code",
   "execution_count": 2,
   "metadata": {},
   "outputs": [],
   "source": [
    "mp = smq1Q_XYI\n",
    "target = mp.target_model()\n",
    "fids = (mp.prep_fiducials(), mp.meas_fiducials())\n",
    "germs = mp.germs()\n",
    "ds = make_depolarized_dataset(mp, depol_level=0.01, max_max_len=128)"
   ]
  },
  {
   "cell_type": "code",
   "execution_count": 4,
   "metadata": {},
   "outputs": [
    {
     "name": "stdout",
     "output_type": "stream",
     "text": [
      "--- Circuit Creation ---\n",
      "-- Std Practice:  [--------------------------------------------------] 0.0%  (full TP) --\r"
     ]
    },
    {
     "name": "stderr",
     "output_type": "stream",
     "text": [
      "/Users/rjmurr/Documents/pygsti-tvd/pygsti/pygsti/objectivefns/objectivefns.py:4483: RuntimeWarning: divide by zero encountered in divide\n",
      "  p5over_lsvec = 0.5/lsvec\n"
     ]
    },
    {
     "name": "stdout",
     "output_type": "stream",
     "text": [
      "-- Std Practice:  [##################################################] 100.0%  (full TP) --\n",
      "--- Circuit Creation ---\n",
      "-- Std Practice:  [--------------------------------------------------] 0.0%  (full TP) --\r"
     ]
    },
    {
     "name": "stderr",
     "output_type": "stream",
     "text": [
      "/Users/rjmurr/Documents/pygsti-tvd/pygsti/pygsti/objectivefns/objectivefns.py:4014: UserWarning: This derivative is discontinuous and does not return a full subgradient.\n",
      "  _warnings.warn('This derivative is discontinuous and does not return a full subgradient.')\n"
     ]
    },
    {
     "name": "stdout",
     "output_type": "stream",
     "text": [
      "-- Std Practice:  [##################################################] 100.0%  (full TP) --\n",
      "--- Circuit Creation ---\n",
      "-- Std Practice:  [--------------------------------------------------] 0.0%  (full TP) --\r"
     ]
    },
    {
     "name": "stderr",
     "output_type": "stream",
     "text": [
      "/Users/rjmurr/Documents/pygsti-tvd/pygsti/pygsti/objectivefns/objectivefns.py:4483: RuntimeWarning: divide by zero encountered in divide\n",
      "  p5over_lsvec = 0.5/lsvec\n"
     ]
    },
    {
     "name": "stdout",
     "output_type": "stream",
     "text": [
      "-- Std Practice:  [##################################################] 100.0%  (full TP) --\n",
      "--- Circuit Creation ---\n",
      "-- Std Practice:  [##################################################] 100.0%  (full TP) --\n"
     ]
    }
   ],
   "source": [
    "fit_mode = 'full TP'\n",
    "\n",
    "results = cptp_gst(ds, fids, germs, target, 'logl', verbosity=1, mode=fit_mode)\n",
    "results.estimates['fit-true-logl'] = results.estimates.pop(fit_mode)\n",
    "tvd_res = cptp_gst(ds, fids, germs, target, 'tvd', verbosity=1, mode=fit_mode)\n",
    "results.estimates['fit-true-tvd'] = tvd_res.estimates.pop(fit_mode)\n",
    "\n",
    "dsc, selected = corrupt_dataset(ds, prop_corrupt=0.025)\n",
    "logl_res = cptp_gst(dsc, fids, germs, target, 'logl', verbosity=1, mode=fit_mode)\n",
    "results.estimates['fit-corrupt-logl'] = logl_res.estimates.pop(fit_mode)\n",
    "tvd_res  = cptp_gst(dsc, fids, germs, target,  'tvd', verbosity=1, mode=fit_mode)\n",
    "results.estimates['fit-corrupt-tvd'] =  tvd_res.estimates.pop(fit_mode)"
   ]
  },
  {
   "cell_type": "code",
   "execution_count": 7,
   "metadata": {},
   "outputs": [
    {
     "name": "stdout",
     "output_type": "stream",
     "text": [
      "Running idle tomography\n",
      "Computing switchable properties\n",
      "Found standard clifford compilation from smq1Q_XYI\n",
      "Found standard clifford compilation from smq1Q_XYI\n",
      "Found standard clifford compilation from smq1Q_XYI\n",
      "Found standard clifford compilation from smq1Q_XYI\n",
      "Found standard clifford compilation from smq1Q_XYI\n",
      "Found standard clifford compilation from smq1Q_XYI\n",
      "Found standard clifford compilation from smq1Q_XYI\n",
      "Found standard clifford compilation from smq1Q_XYI\n"
     ]
    },
    {
     "name": "stderr",
     "output_type": "stream",
     "text": [
      "/Users/rjmurr/Documents/pygsti-tvd/pygsti/pygsti/tools/optools.py:164: UserWarning:\n",
      "\n",
      "\n",
      "            Input matrix is not PSD up to tolerance 1.8189894035458565e-12.\n",
      "            We'll project out the bad eigenspaces to only work with the PSD part.\n",
      "            \n",
      "\n",
      "/Users/rjmurr/Documents/pygsti-tvd/pygsti/pygsti/tools/optools.py:172: UserWarning:\n",
      "\n",
      "\n",
      "            The PSD part of the input matrix is not trace-1 up to tolerance 3.637978807091713e-12.\n",
      "            Beware result!\n",
      "            \n",
      "\n",
      "/Users/rjmurr/Documents/pygsti-tvd/pygsti/pygsti/forwardsims/mapforwardsim.py:732: UserWarning:\n",
      "\n",
      "Generating dense process matrix representations of circuits or gates \n",
      "can be inefficient and should be avoided for the purposes of forward \n",
      "simulation/calculation of circuit outcome probability distributions \n",
      "when using the MapForwardSimulator.\n",
      "\n"
     ]
    },
    {
     "name": "stdout",
     "output_type": "stream",
     "text": [
      "Statistical hypothesis tests did NOT find inconsistency between the data at 5.00% significance.\n",
      "The data are INCONSISTENT at 5.00% significance.\n",
      "  - Details:\n",
      "    - The aggregate log-likelihood ratio test is significant at 167.04 standard deviations.\n",
      "    - The aggregate log-likelihood ratio test standard deviations signficance threshold is 2.00\n",
      "    - The number of sequences with data that is inconsistent is 21\n",
      "    - The maximum SSTVD over all sequences is 0.78\n",
      "    - The maximum SSTVD was observed for Qubit 0 ---|Gxpi2|-|Gxpi2|-|Gypi2|-|Gypi2|-|Gypi2|-|Gypi2|---\n",
      "\n",
      "The data are INCONSISTENT at 5.00% significance.\n",
      "  - Details:\n",
      "    - The aggregate log-likelihood ratio test is significant at 167.04 standard deviations.\n",
      "    - The aggregate log-likelihood ratio test standard deviations signficance threshold is 2.00\n",
      "    - The number of sequences with data that is inconsistent is 21\n",
      "    - The maximum SSTVD over all sequences is 0.78\n",
      "    - The maximum SSTVD was observed for Qubit 0 ---|Gxpi2|-|Gxpi2|-|Gypi2|-|Gypi2|-|Gypi2|-|Gypi2|---\n",
      "\n",
      "Statistical hypothesis tests did NOT find inconsistency between the data at 5.00% significance.\n"
     ]
    }
   ],
   "source": [
    "moar_results = results.copy()\n",
    "dsc.comment = 'corrupt'\n",
    "moar_results.data.dataset = dsc\n",
    "report = pygsti.report.construct_standard_report(\n",
    "    {'eval-true'  : results,\n",
    "     'eval-corrupt' : moar_results\n",
    "    },\n",
    "    advanced_options={'skip_sections': ('colorbox',)},\n",
    "    title=\"GST Example Report\", verbosity=2\n",
    ")\n",
    "# NOTE: can reach in and change the entry in report.switchboard.objfn_builder_modvi,\n",
    "#       or anything else in the switchboard, according to my whims.\n",
    "report.write_html(\"case0_reports_250217/exampleReport\", auto_open=True, verbosity=1)\n"
   ]
  }
 ],
 "metadata": {
  "kernelspec": {
   "display_name": "rogst",
   "language": "python",
   "name": "python3"
  },
  "language_info": {
   "codemirror_mode": {
    "name": "ipython",
    "version": 3
   },
   "file_extension": ".py",
   "mimetype": "text/x-python",
   "name": "python",
   "nbconvert_exporter": "python",
   "pygments_lexer": "ipython3",
   "version": "3.11.11"
  }
 },
 "nbformat": 4,
 "nbformat_minor": 4
}
